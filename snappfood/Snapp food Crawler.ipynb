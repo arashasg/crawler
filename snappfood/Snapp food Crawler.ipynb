{
 "cells": [
  {
   "cell_type": "markdown",
   "metadata": {
    "collapsed": true,
    "pycharm": {
     "name": "#%% md\n"
    }
   },
   "source": [
    "## Selenium\n",
    "\n",
    "### open driver"
   ]
  },
  {
   "cell_type": "code",
   "execution_count": 1,
   "metadata": {
    "collapsed": false,
    "pycharm": {
     "name": "#%%\n"
    }
   },
   "outputs": [
    {
     "name": "stderr",
     "output_type": "stream",
     "text": [
      "c:\\Users\\Mine\\AppData\\Local\\Programs\\Python\\Python39\\lib\\site-packages\\pydub\\utils.py:170: RuntimeWarning: Couldn't find ffmpeg or avconv - defaulting to ffmpeg, but may not work\n",
      "  warn(\"Couldn't find ffmpeg or avconv - defaulting to ffmpeg, but may not work\", RuntimeWarning)\n"
     ]
    }
   ],
   "source": [
    "from selenium import webdriver\n",
    "from reCaptchaBypasser import reCaptchaScraper\n",
    "import time\n",
    "import pytesseract\n",
    "import re\n",
    "import urllib\n",
    "import io\n",
    "\n",
    "from PIL import Image\n",
    "from PIL import ImageEnhance\n",
    "import PIL.ImageOps\n",
    "URL = \"https://edu.sharif.edu/\"\n",
    "USERNAME = \"test\"\n",
    "PASSWORD = \"test\"\n",
    "import urllib.request\n",
    "from selenium.webdriver.common.keys import Keys\n",
    "\n",
    "import cv2\n",
    "from pytesseract import image_to_string\n",
    "\n",
    "pytesseract.pytesseract.tesseract_cmd = r'C:\\Users\\Mine\\miniconda3\\envs\\tesseract\\Library\\bin\\tesseract.exe'\n",
    "\n",
    "def image2text(path):\n",
    "\n",
    "    img = cv2.imread(path)\n",
    "    gry = cv2.cvtColor(img, cv2.COLOR_BGR2GRAY)\n",
    "    (h, w) = gry.shape[:2]\n",
    "    gry = cv2.resize(gry, (w*2, h*2))\n",
    "    cls = cv2.morphologyEx(gry, cv2.MORPH_CLOSE, None)\n",
    "    thr = cv2.threshold(cls, 0, 255, cv2.THRESH_BINARY | cv2.THRESH_OTSU)[1]\n",
    "    txt = image_to_string(thr)\n",
    "    num = re.sub(r'[^\\d]','',txt)\n",
    "    return num"
   ]
  },
  {
   "cell_type": "code",
   "execution_count": 2,
   "metadata": {
    "collapsed": false,
    "pycharm": {
     "name": "#%%\n"
    }
   },
   "outputs": [
    {
     "name": "stderr",
     "output_type": "stream",
     "text": [
      "C:\\Users\\Mine\\AppData\\Local\\Temp\\ipykernel_10968\\2116284842.py:2: DeprecationWarning: executable_path has been deprecated, please pass in a Service object\n",
      "  driver = webdriver.Firefox(executable_path='C:\\\\Users\\\\Mine\\\\AppData\\\\Local\\\\Programs\\\\Python\\\\Python39\\\\geckodriver.exe')\n"
     ]
    },
    {
     "name": "stdout",
     "output_type": "stream",
     "text": [
      "Carson Busses :  $29.95\n",
      "Earl E. Byrd :  $8.37\n",
      "Patty Cakes :  $15.26\n",
      "Derri Anne Connecticut :  $19.25\n",
      "Moe Dess :  $19.25\n",
      "Leda Doggslife :  $13.99\n",
      "Dan Druff :  $31.57\n",
      "Al Fresco :  $8.49\n",
      "Ido Hoe :  $14.47\n",
      "Howie Kisses :  $15.86\n",
      "Len Lease :  $11.11\n",
      "Phil Meup :  $15.98\n",
      "Ira Pent :  $16.27\n",
      "Ben D. Rules :  $7.50\n",
      "Ave Sectomy :  $50.85\n",
      "Gary Shattire :  $14.26\n",
      "Bobbi Soks :  $5.68\n",
      "Sheila Takya :  $15.00\n",
      "Rose Tattoo :  $114.07\n",
      "Moe Tell :  $10.09\n"
     ]
    }
   ],
   "source": [
    "from selenium import webdriver\n",
    "driver = webdriver.Firefox(executable_path='C:\\\\Users\\\\Mine\\\\AppData\\\\Local\\\\Programs\\\\Python\\\\Python39\\\\geckodriver.exe')\n",
    "driver.get(\"http://econpy.pythonanywhere.com/ex/001.html\")\n",
    "names = driver.find_elements(\"xpath\",'//div[@title=\"buyer-name\"]')\n",
    "prices = driver.find_elements(\"xpath\",'//span[@class=\"item-price\"]')\n",
    "for name, price in zip(names, prices):\n",
    "    print(name.text + \" : \", price.text)\n",
    "driver.close()"
   ]
  },
  {
   "cell_type": "code",
   "execution_count": 1,
   "metadata": {},
   "outputs": [],
   "source": [
    "import string\n",
    "def translator(text: str):\n",
    "    dic = {  \n",
    "        '۱':1, \n",
    "        '۲':2, \n",
    "        '۳':3, \n",
    "        '۴':4, \n",
    "        '۵':5, \n",
    "        '۶':6, \n",
    "        '۷':7, \n",
    "        '۸':8, \n",
    "        '۹':9, \n",
    "        '۰':0, \n",
    "        ',':'',\n",
    "    }\n",
    "    for char in text:\n",
    "        if char in dic.keys():\n",
    "            text = text.replace(str(char), str(dic[char]))\n",
    "    return float(text)"
   ]
  },
  {
   "cell_type": "markdown",
   "metadata": {},
   "source": [
    "### Snapp Food"
   ]
  },
  {
   "cell_type": "code",
   "execution_count": 19,
   "metadata": {},
   "outputs": [
    {
     "name": "stderr",
     "output_type": "stream",
     "text": [
      "C:\\Users\\Mine\\AppData\\Local\\Temp\\ipykernel_7108\\2558794605.py:7: DeprecationWarning: executable_path has been deprecated, please pass in a Service object\n",
      "  driver = webdriver.Firefox(executable_path='C:\\\\Users\\\\Mine\\\\AppData\\\\Local\\\\Programs\\\\Python\\\\Python39\\\\geckodriver.exe')\n"
     ]
    }
   ],
   "source": [
    "from selenium import webdriver\n",
    "import time\n",
    "from selenium.webdriver.common.keys import Keys\n",
    "import numpy as np\n",
    "\n",
    "search_key = \"شیرینی سولدوش\"\n",
    "driver = webdriver.Firefox(executable_path='C:\\\\Users\\\\Mine\\\\AppData\\\\Local\\\\Programs\\\\Python\\\\Python39\\\\geckodriver.exe')\n",
    "driver.get(\"https://snappfood.ir/\")\n",
    "time.sleep(0.5)"
   ]
  },
  {
   "cell_type": "code",
   "execution_count": 20,
   "metadata": {},
   "outputs": [
    {
     "name": "stderr",
     "output_type": "stream",
     "text": [
      "C:\\Users\\Mine\\AppData\\Local\\Temp\\ipykernel_7108\\662099877.py:7: DeprecationWarning: executable_path has been deprecated, please pass in a Service object\n",
      "  driver = webdriver.Firefox(executable_path='C:\\\\Users\\\\Mine\\\\AppData\\\\Local\\\\Programs\\\\Python\\\\Python39\\\\geckodriver.exe')\n"
     ]
    }
   ],
   "source": [
    "from selenium import webdriver\n",
    "import time\n",
    "from selenium.webdriver.common.keys import Keys\n",
    "import numpy as np\n",
    "\n",
    "search_key = \"شیرینی سولدوش\"\n",
    "driver = webdriver.Firefox(executable_path='C:\\\\Users\\\\Mine\\\\AppData\\\\Local\\\\Programs\\\\Python\\\\Python39\\\\geckodriver.exe')\n",
    "driver.get(\"https://snappfood.ir/\")\n",
    "time.sleep(0.5)\n",
    "driver.find_elements(\"xpath\",'//*[@id=\"__next\"]/div/div/main/div[1]/div[2]/div[2]/div[3]/button')[0].click()\n",
    "time.sleep(0.5)\n",
    "driver.find_elements(\"xpath\",'//*[@id=\"modal-backdrop\"]/div/form/div/button')[0].click()\n",
    "time.sleep(0.5)"
   ]
  },
  {
   "cell_type": "code",
   "execution_count": 21,
   "metadata": {},
   "outputs": [
    {
     "name": "stderr",
     "output_type": "stream",
     "text": [
      "C:\\Users\\Mine\\AppData\\Local\\Temp\\ipykernel_7108\\1007284099.py:7: DeprecationWarning: executable_path has been deprecated, please pass in a Service object\n",
      "  driver = webdriver.Firefox(executable_path='C:\\\\Users\\\\Mine\\\\AppData\\\\Local\\\\Programs\\\\Python\\\\Python39\\\\geckodriver.exe')\n"
     ]
    },
    {
     "name": "stdout",
     "output_type": "stream",
     "text": [
      "number of results :  3\n",
      "the rating of search results is:  [4.4, 4.4, 4.3]\n"
     ]
    }
   ],
   "source": [
    "from selenium import webdriver\n",
    "import time\n",
    "from selenium.webdriver.common.keys import Keys\n",
    "import numpy as np\n",
    "\n",
    "search_key = \"شیرینی سولدوش\"\n",
    "driver = webdriver.Firefox(executable_path='C:\\\\Users\\\\Mine\\\\AppData\\\\Local\\\\Programs\\\\Python\\\\Python39\\\\geckodriver.exe')\n",
    "driver.get(\"https://snappfood.ir/\")\n",
    "time.sleep(0.5)\n",
    "driver.find_elements(\"xpath\",'//*[@id=\"__next\"]/div/div/main/div[1]/div[2]/div[2]/div[3]/button')[0].click()\n",
    "time.sleep(0.5)\n",
    "driver.find_elements(\"xpath\",'//*[@id=\"modal-backdrop\"]/div/form/div/button')[0].click()\n",
    "time.sleep(0.5)\n",
    "\n",
    "\n",
    "# now we enter the search key to get some shops as result\n",
    "driver.find_elements(\"xpath\",'//*[@id=\"__next\"]/div/div/div[1]/header/div/div[2]/p')[0].click()\n",
    "time.sleep(0.5)\n",
    "search_box = driver.find_elements(\"xpath\",'//*[@id=\"modal-backdrop\"]/div/div/div[1]/input')[0]\n",
    "search_box.send_keys(search_key)\n",
    "search_box.send_keys(Keys.RETURN)\n",
    "driver.implicitly_wait(10)\n",
    "search_results = driver.find_elements(\"class name\",'czgTBy')\n",
    "print(\"number of results : \",len(search_results))\n",
    "ratings_in_persian = driver.find_elements('xpath', '/html/body/div/div/main/section/div/div/a/div/div/div/div/div/span/span')\n",
    "ratings = [translator(rate.text) for rate in ratings_in_persian]\n",
    "print(\"the rating of search results is: \", ratings)\n",
    "num_of_rates_in_persian = driver.find_elements('xpath', '//*[@id=\"__next\"]/div/main/section/div/div/a/div/div/div/div/div/p')\n",
    "num_of_rates = [translator(rate.text.split()[0][1:]) for rate in num_of_rates_in_persian]\n",
    "max_ind = np.argmax(np.array(num_of_rates)) + 1\n",
    "# click on the shop with the most number of ratings\n",
    "driver.find_element('xpath', '//*[@id=\"__next\"]/div/main/section/div/div[{}]'.format(max_ind)).click()\n",
    "# click on comments section\n",
    "driver.find_element('xpath', '//*[@id=\"__next\"]/div/main/div/aside[1]/div/section/div/button').click()\n",
    "driver.implicitly_wait(10)\n",
    "driver.find_element('xpath', '//*[@id=\"modal-backdrop\"]/div/div/section').click()\n",
    "driver.implicitly_wait(10)\n",
    "max_num_of_comments = 100\n",
    "num_of_comments = len(driver.find_elements('xpath', '//*[@id=\"modal-backdrop\"]/div/div/section/div[3]/div'))\n",
    "\n",
    "while (num_of_comments < max_num_of_comments):\n",
    "    last_comment = driver.find_element('xpath', '//*[@id=\"modal-backdrop\"]/div/div/section/div[3]/div[{}]'.format(num_of_comments))\n",
    "    driver.execute_script(\"arguments[0].scrollIntoView();\", last_comment)\n",
    "    time.sleep(2)\n",
    "    # if len(driver.find_elements('xpath', '//*[@id=\"modal-backdrop\"]/div/div/section/div[3]/div')) == num_of_comments:\n",
    "    #     break\n",
    "    num_of_comments = len(driver.find_elements('xpath', '//*[@id=\"modal-backdrop\"]/div/div/section/div[3]/div'))\n",
    "\n",
    "names = driver.find_elements('xpath', '//*[@id=\"modal-backdrop\"]/div/div/section/div[3]/div/div[1]/p[1]')\n",
    "dates = driver.find_elements('xpath', '//*[@id=\"modal-backdrop\"]/div/div/section/div[3]/div/div[1]/p[2]')\n",
    "rates = driver.find_elements('xpath', '//*[@id=\"modal-backdrop\"]/div/div/section/div[3]/div/div[1]/p[3]')\n",
    "comments = driver.find_elements('xpath', '//*[@id=\"modal-backdrop\"]/div/div/section/div[3]/div/div[2]/p[@data-testid=\"comment-text\"]')\n",
    "comments = driver.find_elements('xpath', '//*[@id=\"modal-backdrop\"]/div/div/section/div[3]/div/div[2]/p')\n",
    "\n",
    "names = [name.text for name in names]\n",
    "dates = [comment_date.text for comment_date in dates]\n",
    "rates = [rate.text for rate in rates]\n",
    "comments = [comment.text for comment in comments]"
   ]
  },
  {
   "cell_type": "code",
   "execution_count": 22,
   "metadata": {},
   "outputs": [
    {
     "data": {
      "text/html": [
       "<div>\n",
       "<style scoped>\n",
       "    .dataframe tbody tr th:only-of-type {\n",
       "        vertical-align: middle;\n",
       "    }\n",
       "\n",
       "    .dataframe tbody tr th {\n",
       "        vertical-align: top;\n",
       "    }\n",
       "\n",
       "    .dataframe thead th {\n",
       "        text-align: right;\n",
       "    }\n",
       "</style>\n",
       "<table border=\"1\" class=\"dataframe\">\n",
       "  <thead>\n",
       "    <tr style=\"text-align: right;\">\n",
       "      <th></th>\n",
       "      <th>name</th>\n",
       "      <th>date</th>\n",
       "      <th>comment</th>\n",
       "      <th>rate</th>\n",
       "    </tr>\n",
       "  </thead>\n",
       "  <tbody>\n",
       "    <tr>\n",
       "      <th>0</th>\n",
       "      <td>فربد</td>\n",
       "      <td>۳۰ مرداد ۱۴۰۱</td>\n",
       "      <td>کیک ارسال شده با کیکی که انتخاب شده بود تفاوت ...</td>\n",
       "      <td></td>\n",
       "    </tr>\n",
       "    <tr>\n",
       "      <th>1</th>\n",
       "      <td>مونا</td>\n",
       "      <td>۰۳ تیر ۱۴۰۱</td>\n",
       "      <td>كيفيت نسبت به قيمت و عدم توجه به توضيحات</td>\n",
       "      <td></td>\n",
       "    </tr>\n",
       "    <tr>\n",
       "      <th>2</th>\n",
       "      <td>آزاده</td>\n",
       "      <td>۳۰ خرداد ۱۴۰۱</td>\n",
       "      <td>نان گاتا نان شیرمال بود و هیچ شباهتی به گاتا ن...</td>\n",
       "      <td>۴</td>\n",
       "    </tr>\n",
       "    <tr>\n",
       "      <th>3</th>\n",
       "      <td>علی</td>\n",
       "      <td>۱۴ مرداد ۱۴۰۱</td>\n",
       "      <td>بجای کیک ساده کیک کشمشی ارسال شده بود</td>\n",
       "      <td>۲</td>\n",
       "    </tr>\n",
       "    <tr>\n",
       "      <th>4</th>\n",
       "      <td>مائده</td>\n",
       "      <td>۲۵ مرداد ۱۴۰۱</td>\n",
       "      <td>میتونم بگم از بدترین کیک هایی بود که خورده بود...</td>\n",
       "      <td></td>\n",
       "    </tr>\n",
       "  </tbody>\n",
       "</table>\n",
       "</div>"
      ],
      "text/plain": [
       "    name           date                                            comment  \\\n",
       "0   فربد  ۳۰ مرداد ۱۴۰۱  کیک ارسال شده با کیکی که انتخاب شده بود تفاوت ...   \n",
       "1   مونا    ۰۳ تیر ۱۴۰۱           كيفيت نسبت به قيمت و عدم توجه به توضيحات   \n",
       "2  آزاده  ۳۰ خرداد ۱۴۰۱  نان گاتا نان شیرمال بود و هیچ شباهتی به گاتا ن...   \n",
       "3    علی  ۱۴ مرداد ۱۴۰۱              بجای کیک ساده کیک کشمشی ارسال شده بود   \n",
       "4  مائده  ۲۵ مرداد ۱۴۰۱  میتونم بگم از بدترین کیک هایی بود که خورده بود...   \n",
       "\n",
       "  rate  \n",
       "0       \n",
       "1       \n",
       "2    ۴  \n",
       "3    ۲  \n",
       "4       "
      ]
     },
     "execution_count": 22,
     "metadata": {},
     "output_type": "execute_result"
    }
   ],
   "source": [
    "import pandas as pd\n",
    "output_df = pd.DataFrame({'name': names, 'date':dates, 'comment':comments, 'rate': rates})\n",
    "output_df.head()"
   ]
  },
  {
   "cell_type": "code",
   "execution_count": null,
   "metadata": {},
   "outputs": [
    {
     "name": "stdout",
     "output_type": "stream",
     "text": [
      "100\n",
      "100\n",
      "100\n",
      "100\n"
     ]
    }
   ],
   "source": [
    "print(len(names))\n",
    "print(len(dates))\n",
    "print(len(comments))\n",
    "print(len(rates))"
   ]
  },
  {
   "cell_type": "code",
   "execution_count": null,
   "metadata": {},
   "outputs": [],
   "source": []
  }
 ],
 "metadata": {
  "kernelspec": {
   "display_name": "Python 3.9.7 64-bit",
   "language": "python",
   "name": "python3"
  },
  "language_info": {
   "codemirror_mode": {
    "name": "ipython",
    "version": 3
   },
   "file_extension": ".py",
   "mimetype": "text/x-python",
   "name": "python",
   "nbconvert_exporter": "python",
   "pygments_lexer": "ipython3",
   "version": "3.9.7"
  },
  "vscode": {
   "interpreter": {
    "hash": "deac3bea0b24d1cb901c65ea6e6b00e29f657395b3642c024e4869719ef94920"
   }
  }
 },
 "nbformat": 4,
 "nbformat_minor": 0
}
